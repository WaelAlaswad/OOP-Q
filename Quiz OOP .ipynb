{
 "cells": [
  {
   "cell_type": "markdown",
   "id": "1b7e756f-cdf2-4102-ae1e-fe8b43849c66",
   "metadata": {},
   "source": [
    "# I need a Game for Car \n",
    "\n",
    "when i input start print \"I'm ready to go \"\n",
    "\n",
    "when i input stop print \"Car stop\"\n",
    "\n",
    "when i input Quit stop the game \n",
    "\n",
    "and add help to help him in this choise if he didn't know --> like a massage to till him"
   ]
  },
  {
   "cell_type": "code",
   "execution_count": 7,
   "id": "63f4576d-ed25-4fb9-832a-399567f38269",
   "metadata": {},
   "outputs": [
    {
     "name": "stdout",
     "output_type": "stream",
     "text": [
      "Please select one from the following commands:\n",
      "start : to start the game\n",
      "stop  : to stop the game\n",
      "quit  : to end the game\n",
      "I'm ready to go\n"
     ]
    }
   ],
   "source": [
    "class CarGame():\n",
    "\n",
    "    @staticmethod\n",
    "    def gameHelp():\n",
    "        print(\"Please select one from the following commands:\\nstart : to start the game\\nstop  : to stop the game\\nquit  : to end the game\")\n",
    "\n",
    "    gameHelp()\n",
    "\n",
    "    userInput = str(\n",
    "        input(\"Please select one of the above input to proceed: \"))\n",
    "\n",
    "    def __init__(self, userInput):\n",
    "        self.userInput = userInput\n",
    "\n",
    "    @classmethod\n",
    "    def commandGame(cls):\n",
    "\n",
    "        if cls.userInput == \"start\":\n",
    "            print(\"I'm ready to go\")\n",
    "        elif cls.userInput == \"stop\":\n",
    "            print(\"car stop\")\n",
    "        elif cls.userInput == \"quit\":\n",
    "            print(\"stop the game\")\n",
    "        else:\n",
    "            print(\"Your Input Is Out Of Range\")\n",
    "\n",
    "\n",
    "CarGame.commandGame()"
   ]
  },
  {
   "cell_type": "markdown",
   "id": "66397f40-91a5-4c2b-a612-094a6732e697",
   "metadata": {},
   "source": [
    "# I need math game \n",
    "\n",
    "when i choise any number give my the maltiplcation of it like \n",
    "\n",
    "1*1=1\n",
    "\n",
    "1*2=2\n",
    "\n",
    "1*3=3\n",
    "\n",
    "so on ..."
   ]
  },
  {
   "cell_type": "code",
   "execution_count": null,
   "id": "a51e81f5-66bb-4bae-a5d7-e240c8ac710c",
   "metadata": {},
   "outputs": [],
   "source": [
    "# To help you i need a clas"
   ]
  },
  {
   "cell_type": "code",
   "execution_count": 14,
   "id": "ea7706dd",
   "metadata": {},
   "outputs": [
    {
     "name": "stdout",
     "output_type": "stream",
     "text": [
      "The Multiplication Of 2.0 is: 1 * 2.0\n"
     ]
    }
   ],
   "source": [
    "class NumberMultiplication:\n",
    "    inputNumber= float(input(\"Please Type Number To Display Its Multiplication: \"))\n",
    "\n",
    "    def __init__(self,inputNumber):\n",
    "        self.inputNumber=inputNumber\n",
    "\n",
    "    @classmethod\n",
    "    def dispaly(cls):\n",
    "        print(f\"The Multiplication Of {cls.inputNumber} is: 1 * {cls.inputNumber}\")\n",
    "NumberMultiplication.dispaly()\n",
    "\n"
   ]
  },
  {
   "cell_type": "code",
   "execution_count": null,
   "id": "b1e5ab14",
   "metadata": {},
   "outputs": [],
   "source": []
  }
 ],
 "metadata": {
  "kernelspec": {
   "display_name": "Python 3.10.1 64-bit",
   "language": "python",
   "name": "python3"
  },
  "language_info": {
   "codemirror_mode": {
    "name": "ipython",
    "version": 3
   },
   "file_extension": ".py",
   "mimetype": "text/x-python",
   "name": "python",
   "nbconvert_exporter": "python",
   "pygments_lexer": "ipython3",
   "version": "3.10.1"
  },
  "vscode": {
   "interpreter": {
    "hash": "cfb290067cd8c0e27243bb25ad9b037fd47bb62353ba87cfd026ce4b9af78aab"
   }
  }
 },
 "nbformat": 4,
 "nbformat_minor": 5
}
